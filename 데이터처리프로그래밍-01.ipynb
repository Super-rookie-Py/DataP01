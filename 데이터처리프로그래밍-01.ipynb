{
 "cells": [
  {
   "cell_type": "markdown",
   "metadata": {},
   "source": [
    "# 데이터 처리 프로그래밍 1강\n",
    "#### 2020/06/17 Keonwoo Park\n"
   ]
  },
  {
   "cell_type": "markdown",
   "metadata": {},
   "source": [
    "### 데이터 분석 방법\n",
    "- 기술 통계\n",
    "- 인과 분석\n",
    "- 역학 데이터 분석\n",
    "\n",
    "### 데이터 분석 과정\n",
    "- 데이터 수집 -> 데이터 정제 -> 기술 통계 분석 및 탐색적 분석 -> 미래 예측"
   ]
  },
  {
   "cell_type": "markdown",
   "metadata": {},
   "source": [
    "### 데이터 수집 파이프 라인\n",
    "\n",
    "#### 출처\n",
    "- 인터넷\n",
    "- 파일, 압축 파일\n",
    "- 데이터베이스\n",
    "\n",
    "#### 포맷\n",
    "- 플레인 텍스트(비정형)\n",
    "- CSV\n",
    "- HTML/XML\n",
    "- JSON\n",
    "- 테이블형\n",
    "\n",
    "#### 형태\n",
    "- 리스트, 튜플, 셋\n",
    "- 배열, 행렬\n",
    "- 프레임, 시리즈\n",
    "- 딕셔너리"
   ]
  },
  {
   "cell_type": "markdown",
   "metadata": {},
   "source": [
    "## 04. 기본 문자열 함수 이해하기"
   ]
  },
  {
   "cell_type": "code",
   "execution_count": 5,
   "metadata": {},
   "outputs": [],
   "source": [
    "h = \"Hello, World!\""
   ]
  },
  {
   "cell_type": "code",
   "execution_count": 9,
   "metadata": {},
   "outputs": [
    {
     "data": {
      "text/plain": [
       "'Hello, World! \\t\\t\\n'"
      ]
     },
     "execution_count": 9,
     "metadata": {},
     "output_type": "execute_result"
    }
   ],
   "source": [
    "a =\"Hello, World! \\t\\t\\n\"\n",
    "a"
   ]
  },
  {
   "cell_type": "code",
   "execution_count": 12,
   "metadata": {},
   "outputs": [
    {
     "data": {
      "text/plain": [
       "'Hello, World!'"
      ]
     },
     "execution_count": 12,
     "metadata": {},
     "output_type": "execute_result"
    }
   ],
   "source": [
    "a.strip() #문자열 앞뒤 공백을 제거하는 함수"
   ]
  },
  {
   "cell_type": "code",
   "execution_count": 16,
   "metadata": {},
   "outputs": [
    {
     "data": {
      "text/plain": [
       "'Hello    '"
      ]
     },
     "execution_count": 16,
     "metadata": {},
     "output_type": "execute_result"
    }
   ],
   "source": [
    "\"   Hello    \".lstrip() # 왼쪽 공백 제거"
   ]
  },
  {
   "cell_type": "code",
   "execution_count": 17,
   "metadata": {},
   "outputs": [
    {
     "data": {
      "text/plain": [
       "'   Hello'"
      ]
     },
     "execution_count": 17,
     "metadata": {},
     "output_type": "execute_result"
    }
   ],
   "source": [
    "\"   Hello    \".rstrip() # 오른쪽 공백 제거"
   ]
  },
  {
   "cell_type": "code",
   "execution_count": 18,
   "metadata": {},
   "outputs": [
    {
     "data": {
      "text/plain": [
       "'Hello'"
      ]
     },
     "execution_count": 18,
     "metadata": {},
     "output_type": "execute_result"
    }
   ],
   "source": [
    "\"   Hello    \".strip() # 양쪽 공백 제거"
   ]
  },
  {
   "cell_type": "code",
   "execution_count": 21,
   "metadata": {},
   "outputs": [
    {
     "data": {
      "text/plain": [
       "['Hello,', 'World!']"
      ]
     },
     "execution_count": 21,
     "metadata": {},
     "output_type": "execute_result"
    }
   ],
   "source": [
    "h.split()  #공백을 기준으로 분리한다."
   ]
  },
  {
   "cell_type": "code",
   "execution_count": 23,
   "metadata": {},
   "outputs": [
    {
     "data": {
      "text/plain": [
       "['Hello', 'World!']"
      ]
     },
     "execution_count": 23,
     "metadata": {},
     "output_type": "execute_result"
    }
   ],
   "source": [
    "\"Hello, World!\".split(\", \")"
   ]
  },
  {
   "cell_type": "code",
   "execution_count": 29,
   "metadata": {},
   "outputs": [
    {
     "data": {
      "text/plain": [
       "['alpha', ' braovo', ' charlie', ' delta']"
      ]
     },
     "execution_count": 29,
     "metadata": {},
     "output_type": "execute_result"
    }
   ],
   "source": [
    "\"alpha, braovo, charlie, delta\".split(\",\")"
   ]
  },
  {
   "cell_type": "code",
   "execution_count": 46,
   "metadata": {},
   "outputs": [
    {
     "data": {
      "text/plain": [
       "'alpha, bravo, charlie, delta'"
      ]
     },
     "execution_count": 46,
     "metadata": {},
     "output_type": "execute_result"
    }
   ],
   "source": [
    "# 한 문자열로 합치기\n",
    "', '.join([\"alpha\", \"bravo\", 'charlie', 'delta']) "
   ]
  },
  {
   "cell_type": "code",
   "execution_count": 33,
   "metadata": {},
   "outputs": [],
   "source": [
    "num = \"1.617.308.1985\""
   ]
  },
  {
   "cell_type": "code",
   "execution_count": 36,
   "metadata": {},
   "outputs": [
    {
     "data": {
      "text/plain": [
       "'1-617-308-1985'"
      ]
     },
     "execution_count": 36,
     "metadata": {},
     "output_type": "execute_result"
    }
   ],
   "source": [
    "\"-\".join(num.split(\".\"))"
   ]
  },
  {
   "cell_type": "code",
   "execution_count": 40,
   "metadata": {},
   "outputs": [
    {
     "data": {
      "text/plain": [
       "'This sthring has many spaces'"
      ]
     },
     "execution_count": 40,
     "metadata": {},
     "output_type": "execute_result"
    }
   ],
   "source": [
    "\" \".join(\"This sthring\\n\\r has many\\t\\tspaces\".split())"
   ]
  },
  {
   "cell_type": "code",
   "execution_count": 42,
   "metadata": {},
   "outputs": [
    {
     "data": {
      "text/plain": [
       "9"
      ]
     },
     "execution_count": 42,
     "metadata": {},
     "output_type": "execute_result"
    }
   ],
   "source": [
    "# 문자열 위치 찾기\n",
    "\"www.naver.com\".find(\".com\")"
   ]
  },
  {
   "cell_type": "code",
   "execution_count": 43,
   "metadata": {},
   "outputs": [
    {
     "data": {
      "text/plain": [
       "2"
      ]
     },
     "execution_count": 43,
     "metadata": {},
     "output_type": "execute_result"
    }
   ],
   "source": [
    "# 문자열 개수 새기\n",
    "\"www.naver.com\".count(\".\")"
   ]
  },
  {
   "cell_type": "code",
   "execution_count": 47,
   "metadata": {},
   "outputs": [
    {
     "data": {
      "text/plain": [
       "'.com'"
      ]
     },
     "execution_count": 47,
     "metadata": {},
     "output_type": "execute_result"
    }
   ],
   "source": [
    "'www.naver.com'[\"www.naver.com\".find(\".com\"):]"
   ]
  },
  {
   "cell_type": "markdown",
   "metadata": {},
   "source": [
    "# unit_05"
   ]
  },
  {
   "cell_type": "code",
   "execution_count": 50,
   "metadata": {},
   "outputs": [],
   "source": [
    "bigList = [str(i) for i in range(1000000)]"
   ]
  },
  {
   "cell_type": "code",
   "execution_count": 60,
   "metadata": {},
   "outputs": [
    {
     "data": {
      "text/plain": [
       "False"
      ]
     },
     "execution_count": 60,
     "metadata": {},
     "output_type": "execute_result"
    }
   ],
   "source": [
    "\"abc\" in bigList"
   ]
  },
  {
   "cell_type": "code",
   "execution_count": 61,
   "metadata": {},
   "outputs": [],
   "source": [
    "bigSet = set(bigList)"
   ]
  },
  {
   "cell_type": "code",
   "execution_count": 62,
   "metadata": {},
   "outputs": [
    {
     "data": {
      "text/plain": [
       "False"
      ]
     },
     "execution_count": 62,
     "metadata": {},
     "output_type": "execute_result"
    }
   ],
   "source": [
    "\"abc\" in bigSet"
   ]
  },
  {
   "cell_type": "markdown",
   "metadata": {},
   "source": [
    "- list 보다 set에서 값을 찾아오는것이 빠르다\n",
    "- set은 일정 데이터량이 넘어가면 검색시간에는 큰 차이가 없음\n",
    "- dictionary 구조 역시 logN의 속도\n",
    "- tuple은 읽기만 가능하다."
   ]
  },
  {
   "cell_type": "markdown",
   "metadata": {},
   "source": [
    "# unit_06"
   ]
  },
  {
   "cell_type": "markdown",
   "metadata": {},
   "source": [
    "#### 리스트 내포\n",
    "[ 표현식 for 항목1 in 반복가능객체 if 조건문1 for 항목2 in 반복가능객체2 if 조건2 ...]\n"
   ]
  },
  {
   "cell_type": "code",
   "execution_count": 69,
   "metadata": {},
   "outputs": [],
   "source": [
    "my_list = [i for i in range(10) if i%2 == 0]"
   ]
  },
  {
   "cell_type": "code",
   "execution_count": 70,
   "metadata": {},
   "outputs": [
    {
     "data": {
      "text/plain": [
       "[0, 2, 4, 6, 8]"
      ]
     },
     "execution_count": 70,
     "metadata": {},
     "output_type": "execute_result"
    }
   ],
   "source": [
    "my_list"
   ]
  },
  {
   "cell_type": "code",
   "execution_count": 72,
   "metadata": {},
   "outputs": [
    {
     "data": {
      "text/plain": [
       "[6, 8]"
      ]
     },
     "execution_count": 72,
     "metadata": {},
     "output_type": "execute_result"
    }
   ],
   "source": [
    "z = [i for i in my_list if i>4]\n",
    "z"
   ]
  },
  {
   "cell_type": "code",
   "execution_count": 75,
   "metadata": {},
   "outputs": [
    {
     "data": {
      "text/plain": [
       "[0, 4, 16, 36, 64]"
      ]
     },
     "execution_count": 75,
     "metadata": {},
     "output_type": "execute_result"
    }
   ],
   "source": [
    "a = [i**2 for i in my_list]\n",
    "a"
   ]
  },
  {
   "cell_type": "code",
   "execution_count": 82,
   "metadata": {},
   "outputs": [
    {
     "data": {
      "text/plain": [
       "[1.0,\n",
       " 0.5,\n",
       " 0.333,\n",
       " 0.25,\n",
       " 0.2,\n",
       " 0.167,\n",
       " 0.143,\n",
       " 0.125,\n",
       " 0.111,\n",
       " 0.1,\n",
       " 0.091,\n",
       " 0.083,\n",
       " 0.077,\n",
       " 0.071,\n",
       " 0.067,\n",
       " 0.062,\n",
       " 0.059,\n",
       " 0.056,\n",
       " 0.053,\n",
       " 0.05]"
      ]
     },
     "execution_count": 82,
     "metadata": {},
     "output_type": "execute_result"
    }
   ],
   "source": [
    "inverse = [round(1/i,3) for i in range(1,21)]\n",
    "inverse"
   ]
  },
  {
   "cell_type": "markdown",
   "metadata": {},
   "source": [
    "# unint_07"
   ]
  },
  {
   "cell_type": "code",
   "execution_count": 83,
   "metadata": {},
   "outputs": [],
   "source": [
    "from collections import Counter"
   ]
  },
  {
   "cell_type": "code",
   "execution_count": 89,
   "metadata": {},
   "outputs": [],
   "source": [
    "p = \"a man a plan a canal panama\"\n",
    "cntr = Counter(p.split())\n",
    "\n",
    "# 각 값의 빈도를 나타냄\n",
    "a=cntr.most_common()"
   ]
  },
  {
   "cell_type": "code",
   "execution_count": 100,
   "metadata": {},
   "outputs": [],
   "source": [
    "cntrDict = dict(a)"
   ]
  },
  {
   "cell_type": "code",
   "execution_count": 101,
   "metadata": {},
   "outputs": [
    {
     "data": {
      "text/plain": [
       "{'a': 3, 'man': 1, 'plan': 1, 'canal': 1, 'panama': 1}"
      ]
     },
     "execution_count": 101,
     "metadata": {},
     "output_type": "execute_result"
    }
   ],
   "source": [
    "cntrDict"
   ]
  },
  {
   "cell_type": "code",
   "execution_count": 103,
   "metadata": {},
   "outputs": [
    {
     "data": {
      "text/plain": [
       "Counter({'a': 3, 'man': 1, 'plan': 1, 'canal': 1, 'panama': 1})"
      ]
     },
     "execution_count": 103,
     "metadata": {},
     "output_type": "execute_result"
    }
   ],
   "source": [
    "cntr"
   ]
  },
  {
   "cell_type": "markdown",
   "metadata": {},
   "source": [
    "# Unit_08 파일다루기"
   ]
  },
  {
   "cell_type": "markdown",
   "metadata": {},
   "source": [
    "#### mode 값\n",
    "- r : read 파일을 읽어올 때\n",
    "- w : write 파일을 쓸 때\n",
    "- a : 파일을 덫붙일 때\n",
    "- rw : 읽고 쓸 때\n",
    "- ra : 읽고 덫붙일 때\n",
    "\n",
    "#### 파일을 읽으면 닫아줘야함"
   ]
  },
  {
   "cell_type": "code",
   "execution_count": 109,
   "metadata": {},
   "outputs": [],
   "source": [
    "f = open(\"test.txt\", mode = \"r\") "
   ]
  },
  {
   "cell_type": "code",
   "execution_count": 110,
   "metadata": {},
   "outputs": [
    {
     "data": {
      "text/plain": [
       "'A Birthday\\nChristina Rossetti.\\n\\nMy Heart is like a singing bird\\nWhose nest is in a watered shoot;\\nMy heart is like and apple-tree\\nWhose boughs are bent with thickset fruit;\\nMy heart is like a rainbow shell\\nThat paddles in a halcyon sea;\\nMy heart is gladder than all these\\nBecause the birthday of my life\\nIs come, my love is come to me...'"
      ]
     },
     "execution_count": 110,
     "metadata": {},
     "output_type": "execute_result"
    }
   ],
   "source": [
    "f.read()"
   ]
  },
  {
   "cell_type": "code",
   "execution_count": 112,
   "metadata": {},
   "outputs": [],
   "source": [
    "f.close()"
   ]
  },
  {
   "cell_type": "code",
   "execution_count": 114,
   "metadata": {},
   "outputs": [
    {
     "name": "stdout",
     "output_type": "stream",
     "text": [
      "A Birthday\n",
      "Christina Rossetti.\n",
      "\n",
      "My Heart is like a singing bird\n",
      "Whose nest is in a watered shoot;\n",
      "My heart is like and apple-tree\n",
      "Whose boughs are bent with thickset fruit;\n",
      "My heart is like a rainbow shell\n",
      "That paddles in a halcyon sea;\n",
      "My heart is gladder than all these\n",
      "Because the birthday of my life\n",
      "Is come, my love is come to me...\n"
     ]
    }
   ],
   "source": [
    "# with 함수 사용시 파일을 닫지 않아도 사용 가능\n",
    "\n",
    "with open(\"test.txt\", mode=\"r\") as f:\n",
    "    print(f.read())\n",
    "    "
   ]
  },
  {
   "cell_type": "code",
   "execution_count": 115,
   "metadata": {},
   "outputs": [
    {
     "name": "stdout",
     "output_type": "stream",
     "text": [
      "A Birthday\n",
      "\n",
      "Christina Rossetti.\n",
      "\n",
      "\n",
      "\n",
      "My Heart is like a singing bird\n",
      "\n",
      "Whose nest is in a watered shoot;\n",
      "\n",
      "My heart is like and apple-tree\n",
      "\n",
      "Whose boughs are bent with thickset fruit;\n",
      "\n",
      "My heart is like a rainbow shell\n",
      "\n",
      "That paddles in a halcyon sea;\n",
      "\n",
      "My heart is gladder than all these\n",
      "\n",
      "Because the birthday of my life\n",
      "\n",
      "Is come, my love is come to me...\n"
     ]
    },
    {
     "data": {
      "text/plain": [
       "<function TextIOWrapper.close()>"
      ]
     },
     "execution_count": 115,
     "metadata": {},
     "output_type": "execute_result"
    }
   ],
   "source": [
    "f = open(\"test.txt\", mode='r')\n",
    "lines = f.readlines()\n",
    "for line in lines:\n",
    "    print(line)\n",
    "f.close"
   ]
  },
  {
   "cell_type": "code",
   "execution_count": 116,
   "metadata": {},
   "outputs": [
    {
     "name": "stdout",
     "output_type": "stream",
     "text": [
      "A Birthday\n",
      "\n",
      "Christina Rossetti.\n",
      "\n",
      "\n",
      "\n",
      "My Heart is like a singing bird\n",
      "\n",
      "Whose nest is in a watered shoot;\n",
      "\n",
      "My heart is like and apple-tree\n",
      "\n",
      "Whose boughs are bent with thickset fruit;\n",
      "\n",
      "My heart is like a rainbow shell\n",
      "\n",
      "That paddles in a halcyon sea;\n",
      "\n",
      "My heart is gladder than all these\n",
      "\n",
      "Because the birthday of my life\n",
      "\n",
      "Is come, my love is come to me...\n"
     ]
    }
   ],
   "source": [
    "with open(\"test.txt\", mode=\"r\") as f:\n",
    "    line = f.readlines()\n",
    "    for line in lines:\n",
    "        print(line)"
   ]
  },
  {
   "cell_type": "markdown",
   "metadata": {},
   "source": [
    "- 파일을 닫지 않아도 가능\n",
    "- with 함수 사용이 효과적"
   ]
  }
 ],
 "metadata": {
  "kernelspec": {
   "display_name": "Python 3",
   "language": "python",
   "name": "python3"
  },
  "language_info": {
   "codemirror_mode": {
    "name": "ipython",
    "version": 3
   },
   "file_extension": ".py",
   "mimetype": "text/x-python",
   "name": "python",
   "nbconvert_exporter": "python",
   "pygments_lexer": "ipython3",
   "version": "3.6.2"
  }
 },
 "nbformat": 4,
 "nbformat_minor": 4
}
